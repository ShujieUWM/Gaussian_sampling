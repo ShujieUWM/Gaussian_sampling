{
 "cells": [
  {
   "cell_type": "code",
   "execution_count": 2,
   "metadata": {},
   "outputs": [],
   "source": [
    "import numpy as np\n",
    "import matplotlib.pyplot as plt\n",
    "import time\n",
    "from tqdm import tqdm\n",
    "import copy\n"
   ]
  },
  {
   "cell_type": "code",
   "execution_count": 4,
   "metadata": {},
   "outputs": [],
   "source": [
    "#this block is to define the distribution of Gaussian \n",
    "def gauss_pdf(z,mu,sigma):\n",
    "    #calculate the value of probability density of variable z\n",
    "    dim = z.shape[0]\n",
    "    p = ((1 / (2 * np.pi)) ** (dim / 2)) * (1 / np.sqrt(np.linalg.det(sigma))) * np.exp(- 1 / 2 * np.dot(np.dot(np.transpose(z - mu),np.linalg.inv(sigma)),z - mu))\n",
    "    return p\n",
    "\n",
    "def one_d_gauss(z,mu,sigma):\n",
    "    #it is used to calculate the margin probability of the joint distribution\n",
    "    p = (1 / np.sqrt(2 * np.pi * sigma ** 2) * np.exp(- 1 / 2 * (z - mu) ** 2 / sigma ** 2))\n",
    "    return p"
   ]
  },
  {
   "cell_type": "code",
   "execution_count": 5,
   "metadata": {},
   "outputs": [
    {
     "name": "stdout",
     "output_type": "stream",
     "text": [
      "Random Covariance Matrix:\n",
      "[[0.29337206 0.24343119 0.43919874]\n",
      " [0.24343119 0.71650867 0.48305958]\n",
      " [0.43919874 0.48305958 0.73745456]]\n"
     ]
    }
   ],
   "source": [
    "# generate a symmetric invertible matrix, to randomly generate the sigma matrix.\n",
    "\n",
    "\n",
    "def generate_random_covariance_matrix(dim):\n",
    "    # Generate a random lower triangular matrix\n",
    "    lower_triangular = np.tril(np.random.rand(dim, dim))\n",
    "    \n",
    "    # Construct the covariance matrix using Cholesky decomposition\n",
    "    covariance_matrix = lower_triangular @ lower_triangular.T\n",
    "    \n",
    "    return covariance_matrix\n",
    "\n",
    "# Example usage:\n",
    "dimension = 3\n",
    "random_cov_matrix = generate_random_covariance_matrix(dimension)\n",
    "print(\"Random Covariance Matrix:\")\n",
    "print(random_cov_matrix)\n",
    "\n",
    "\n"
   ]
  },
  {
   "cell_type": "code",
   "execution_count": 9,
   "metadata": {},
   "outputs": [],
   "source": [
    "def evaluate(sigma,mu,counts,bins):\n",
    "    kl = 0\n",
    "    i = 0\n",
    "    delta_x = (bins[-1] - bins[0]) / (len(bins) - 1)\n",
    "    bin_centers = 0.5 * (bins[1:] + bins[:-1])\n",
    "    for count in counts:\n",
    "        x_bin = bin_centers[i]\n",
    "        i += 1\n",
    "        if count == 0:\n",
    "            continue\n",
    "        p_i = one_d_gauss(x_bin,mu,sigma)\n",
    "        kl +=  count * np.log(count / p_i)\n",
    "        \n",
    "    \n",
    "    kl =  delta_x * kl\n",
    "    return kl"
   ]
  },
  {
   "cell_type": "code",
   "execution_count": null,
   "metadata": {},
   "outputs": [],
   "source": [
    "def proposal(Sigma,mu,i,x_set):\n",
    "    dim = Sigma.shape[0]\n",
    "    Sigma_pro = copy.deepcopy(Sigma)\n",
    "    mu_pro = copy.deepcopy(mu)\n",
    "    x_set_pro = copy.deepcopy(x_set)\n",
    "    Sigma_pro[[i,0],:] = Sigma_pro[[0,i],:]\n",
    "    Sigma_pro[:,[i,0]] = Sigma_pro[:,[0,i]]\n",
    "    mu_pro[[i,0]] = mu_pro[[0,i]]\n",
    "    x_set_pro[[i,0]] = x_set_pro[[0,i]]\n",
    "\n",
    "    mu_a = mu_pro[[0],:]\n",
    "    mu_b = mu_pro[1:,:]\n",
    "    Sigma_aa = Sigma_pro[0,0]\n",
    "    Sigma_bb = Sigma_pro[1:,1:]\n",
    "    Sigma_ab = Sigma_pro[[0],1:]\n",
    "    Sigma_ba = Sigma_pro[1:,[0]]\n",
    "    x_b = x_set_pro[1:,:]\n",
    "    mu_a_b = mu_a + np.dot(Sigma_ab,np.dot(np.linalg.inv(Sigma_bb),(x_b - mu_b)))\n",
    "    Sigma_a_b = Sigma_aa - np.dot(Sigma_ab,np.dot(np.linalg.inv(Sigma_bb),Sigma_ba))\n",
    "    mu_a_b = mu_a_b[0,0]\n",
    "    if Sigma_a_b[0,0] < 0:\n",
    "        print(Sigma_a_b[0,0])\n",
    "    Sigma_a_b = np.sqrt(Sigma_a_b[0,0])\n",
    "    \n",
    "    return np.random.normal(loc = mu_a_b,scale = Sigma_a_b,size = 1)"
   ]
  },
  {
   "cell_type": "code",
   "execution_count": null,
   "metadata": {},
   "outputs": [],
   "source": [
    "def gibbs(Sigma,mu,iteration):\n",
    "    dim = mu.shape[0]\n",
    "    x_set_init = np.random.rand(dim,1)\n",
    "    x_set_current = x_set_init\n",
    "    x_data = []\n",
    "\n",
    "    with tqdm(total = iteration * dim) as pbar:\n",
    "        for iter in range(iteration):\n",
    "            for j in range(dim):\n",
    "                pbar.update(1)\n",
    "                xj = proposal(Sigma,mu,j,x_set_current)[0]\n",
    "                x_set_current[j] = xj\n",
    "                x_record = copy.deepcopy(x_set_current)\n",
    "                x_data.append(x_record)\n",
    "\n",
    "\n",
    "    x_data = np.reshape(np.array(x_data),(iteration * dim,dim))\n",
    "\n",
    "    return x_data\n"
   ]
  },
  {
   "cell_type": "code",
   "execution_count": null,
   "metadata": {},
   "outputs": [],
   "source": [
    "#this block is to set the init value\n",
    "sample_total = 10000\n",
    "dim = 10\n",
    "Sigma = np.loadtxt('./p_G/10d_1000000_points_Sigma.txt')\n",
    "\n",
    "mu = np.zeros((dim,1))\n",
    "iteration = int(sample_total / dim)\n",
    "\n",
    "start = time.time()\n",
    "x_data = gibbs(Sigma,mu,iteration)\n",
    "end = time.time()"
   ]
  },
  {
   "cell_type": "code",
   "execution_count": null,
   "metadata": {},
   "outputs": [],
   "source": [
    "#data processing, draw the histgram and save infomation of time, KL to txt\n",
    "\n",
    "KL_set = []\n",
    "sample_total = iteration * dim\n",
    "sample_total = 10000\n",
    "\n",
    "for i in range(dim):\n",
    "    xi = x_data[:sample_total,i]\n",
    "    plt.figure()\n",
    "    weights = np.ones_like(xi)/float(len(xi))\n",
    "    counts,bins,patches = plt.hist(xi,bins = 50, density=True)\n",
    "    x = np.linspace(mu[i,0] - 4 * np.sqrt(Sigma[i,i]),mu[i,0] + 4 * np.sqrt(Sigma[i,i]),1000)\n",
    "    y = one_d_gauss(x,mu[i,0],np.sqrt(Sigma[i,i]))\n",
    "    plt.plot(x,y)\n",
    "    plt.title('Standard normal distribution sampling of ' + str(sample_total)+ ' points')\n",
    "    plt.xlabel('x')\n",
    "    plt.ylabel('counts')\n",
    "    text_x = mu[i,0] - 4 * np.sqrt(Sigma[i,i])\n",
    "    text_y = max(y) * 1.0\n",
    "    plt.text(text_x,text_y,'mu = ' + str(round(mu[i,0],2)) + ',sigma = ' + str(round(np.sqrt(Sigma[i,i]),2)) + ',' + str(dim) +'d')\n",
    "    plt.savefig('./p_G/' + str(sample_total) + '_points_' + str(dim) + 'd_slice_' + str(i) + '.png')\n",
    "    counts,bins,patches = plt.hist(xi,bins = 1000,density = True)\n",
    "    plt.close()\n",
    "    kl = evaluate(np.sqrt(Sigma[i,i]),mu[i,0],counts,bins)\n",
    "    KL_set.append(kl)\n",
    "\n",
    "data_record = [np.array([end - start,np.max(np.array(KL_set))])]\n",
    "np.savetxt('./p_G/' + str(dim) + 'd_' + str(sample_total) + '_points.txt',data_record,fmt = '%.02f')\n",
    "np.savetxt('./p_G/'+ str(dim) + 'd_' + str(sample_total) + '_points_Sigma.txt',Sigma)\n"
   ]
  },
  {
   "cell_type": "code",
   "execution_count": null,
   "metadata": {},
   "outputs": [],
   "source": [
    "# dim fix, sample total up, how would KL change?\n",
    "dim_set = [1,2,4,8,10]\n",
    "D_K = []\n",
    "\n",
    "for dim in dim_set:\n",
    "    Sigma = np.identity(dim)\n",
    "    mu = np.zeros((dim,1))\n",
    "    sample_total_set = [5000,10000,15000,20000,40000]\n",
    "    kl_max_set = []\n",
    "\n",
    "    for sample_total in sample_total_set:\n",
    "        KL_set = []\n",
    "        iteration = int(sample_total / dim)\n",
    "        x_data = gibbs(Sigma,mu,iteration)\n",
    "        for i in range(dim):\n",
    "            xi = x_data[:,i]\n",
    "            counts,bins,patches = plt.hist(xi,bins = 1000,density = True)\n",
    "            kl = evaluate(np.sqrt(Sigma[i,i]),mu[i,0],counts,bins)\n",
    "            KL_set.append(kl)\n",
    "        kl_max_set.append(np.max(np.array(KL_set)))\n",
    "    \n",
    "    D_K.append(kl_max_set)\n",
    "\n",
    "plt.figure()\n",
    "for dim,kl_max_set in zip(dim_set,D_K):\n",
    "    label_name = 'dim = ' + str(dim)\n",
    "    plt.plot(sample_total_set,kl_max_set,marker = 'o',label = label_name)\n",
    "    plt.title('The relationshiop between sample points number and KL')\n",
    "    plt.xlabel('sample points number')\n",
    "    plt.ylabel('KL divergence')\n",
    "    plt.legend()\n",
    "plt.savefig('./p_G/points_num&KL.png') \n",
    "plt.close()\n"
   ]
  }
 ],
 "metadata": {
  "kernelspec": {
   "display_name": "Python 3",
   "language": "python",
   "name": "python3"
  },
  "language_info": {
   "codemirror_mode": {
    "name": "ipython",
    "version": 3
   },
   "file_extension": ".py",
   "mimetype": "text/x-python",
   "name": "python",
   "nbconvert_exporter": "python",
   "pygments_lexer": "ipython3",
   "version": "3.11.4"
  },
  "orig_nbformat": 4
 },
 "nbformat": 4,
 "nbformat_minor": 2
}
